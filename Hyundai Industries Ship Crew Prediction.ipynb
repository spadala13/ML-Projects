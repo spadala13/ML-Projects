{
 "cells": [
  {
   "cell_type": "markdown",
   "metadata": {},
   "source": [
    "# Linear Regression Consulting Project"
   ]
  },
  {
   "cell_type": "markdown",
   "metadata": {
    "collapsed": true
   },
   "source": [
    "Congratulations! You've been contracted by Hyundai Heavy Industries to help them build a predictive model for some ships. [Hyundai Heavy Industries](http://www.hyundai.eu/en) is one of the world's largest ship manufacturing companies and builds cruise liners.\n",
    "\n",
    "You've been flown to their headquarters in Ulsan, South Korea to help them give accurate estimates of how many crew members a ship will require.\n",
    "\n",
    "They are currently building new ships for some customers and want you to create a model and use it to predict how many crew members the ships will need.\n",
    "\n",
    "Here is what the data looks like so far:\n",
    "\n",
    "    Description: Measurements of ship size, capacity, crew, and age for 158 cruise\n",
    "    ships.\n",
    "\n",
    "\n",
    "    Variables/Columns\n",
    "    Ship Name     1-20\n",
    "    Cruise Line   21-40\n",
    "    Age (as of 2013)   46-48\n",
    "    Tonnage (1000s of tons)   50-56\n",
    "    passengers (100s)   58-64\n",
    "    Length (100s of feet)  66-72\n",
    "    Cabins  (100s)   74-80\n",
    "    Passenger Density   82-88\n",
    "    Crew  (100s)   90-96\n",
    "    \n",
    "It is saved in a csv file for you called \"cruise_ship_info.csv\". Your job is to create a regression model that will help predict how many crew members will be needed for future ships. The client also mentioned that they have found that particular cruise lines will differ in acceptable crew counts, so it is most likely an important feature to include in your analysis! \n",
    "\n",
    "Once you've created the model and tested it for a quick check on how well you can expect it to perform, make sure you take a look at why it performs so well!"
   ]
  },
  {
   "cell_type": "code",
   "execution_count": 1,
   "metadata": {},
   "outputs": [],
   "source": [
    "from pyspark.sql import SparkSession\n",
    "from pyspark.ml.regression import LinearRegression\n",
    "from pyspark.ml.linalg import Vectors\n",
    "from pyspark.ml.feature import VectorAssembler"
   ]
  },
  {
   "cell_type": "code",
   "execution_count": 2,
   "metadata": {},
   "outputs": [],
   "source": [
    "# data has been downloaded from UC Irvine machine learning website\n",
    "spark = SparkSession.builder.appName('lr_hyundai').getOrCreate()\n",
    "data = spark.read.csv('cruise_ship_info.csv', inferSchema=True, header=True)"
   ]
  },
  {
   "cell_type": "code",
   "execution_count": 3,
   "metadata": {},
   "outputs": [
    {
     "name": "stdout",
     "output_type": "stream",
     "text": [
      "root\n",
      " |-- Ship_name: string (nullable = true)\n",
      " |-- Cruise_line: string (nullable = true)\n",
      " |-- Age: integer (nullable = true)\n",
      " |-- Tonnage: double (nullable = true)\n",
      " |-- passengers: double (nullable = true)\n",
      " |-- length: double (nullable = true)\n",
      " |-- cabins: double (nullable = true)\n",
      " |-- passenger_density: double (nullable = true)\n",
      " |-- crew: double (nullable = true)\n",
      "\n"
     ]
    }
   ],
   "source": [
    "data.printSchema()"
   ]
  },
  {
   "cell_type": "code",
   "execution_count": 11,
   "metadata": {},
   "outputs": [
    {
     "name": "stdout",
     "output_type": "stream",
     "text": [
      "root\n",
      " |-- Ship_name: string (nullable = true)\n",
      " |-- Cruise_line: string (nullable = true)\n",
      " |-- Age: integer (nullable = true)\n",
      " |-- Tonnage: double (nullable = true)\n",
      " |-- passengers: double (nullable = true)\n",
      " |-- length: double (nullable = true)\n",
      " |-- cabins: double (nullable = true)\n",
      " |-- passenger_density: double (nullable = true)\n",
      " |-- crew: double (nullable = true)\n",
      " |-- Cruise_line_indexed: double (nullable = false)\n",
      " |-- features: vector (nullable = true)\n",
      "\n"
     ]
    }
   ],
   "source": [
    "from pyspark.ml.feature import StringIndexer\n",
    "str_indexer = StringIndexer(inputCol='Cruise_line', outputCol='Cruise_line_indexed')\n",
    "indexed = str_indexer.fit(data).transform(data)\n",
    "assembler = VectorAssembler(inputCols=['Tonnage', 'passengers', 'length', 'cabins', \n",
    "                                       'passenger_density', 'Cruise_line_indexed', 'Age'],\n",
    "                           outputCol='features')\n",
    "output = assembler.transform(indexed)\n",
    "output.printSchema()"
   ]
  },
  {
   "cell_type": "code",
   "execution_count": 13,
   "metadata": {},
   "outputs": [
    {
     "name": "stdout",
     "output_type": "stream",
     "text": [
      "+--------------------+\n",
      "|            features|\n",
      "+--------------------+\n",
      "|[30.2769999999999...|\n",
      "|[30.2769999999999...|\n",
      "|[47.262,14.86,7.2...|\n",
      "|[110.0,29.74,9.53...|\n",
      "|[101.353,26.42,8....|\n",
      "|[70.367,20.52,8.5...|\n",
      "|[70.367,20.52,8.5...|\n",
      "|[70.367,20.56,8.5...|\n",
      "|[70.367,20.52,8.5...|\n",
      "|[110.238999999999...|\n",
      "|[110.0,29.74,9.51...|\n",
      "|[46.052,14.52,7.2...|\n",
      "|[70.367,20.52,8.5...|\n",
      "|[70.367,20.52,8.5...|\n",
      "|[86.0,21.24,9.63,...|\n",
      "|[110.0,29.74,9.51...|\n",
      "|[88.5,21.24,9.63,...|\n",
      "|[70.367,20.52,8.5...|\n",
      "|[88.5,21.24,9.63,...|\n",
      "|[70.367,20.52,8.5...|\n",
      "+--------------------+\n",
      "only showing top 20 rows\n",
      "\n"
     ]
    }
   ],
   "source": [
    "output.select('features').show()"
   ]
  },
  {
   "cell_type": "code",
   "execution_count": 22,
   "metadata": {},
   "outputs": [
    {
     "name": "stdout",
     "output_type": "stream",
     "text": [
      "+--------------------+----+\n",
      "|            features|crew|\n",
      "+--------------------+----+\n",
      "|[30.2769999999999...|3.55|\n",
      "|[30.2769999999999...|3.55|\n",
      "|[47.262,14.86,7.2...| 6.7|\n",
      "|[110.0,29.74,9.53...|19.1|\n",
      "|[101.353,26.42,8....|10.0|\n",
      "|[70.367,20.52,8.5...| 9.2|\n",
      "|[70.367,20.52,8.5...| 9.2|\n",
      "|[70.367,20.56,8.5...| 9.2|\n",
      "|[70.367,20.52,8.5...| 9.2|\n",
      "|[110.238999999999...|11.5|\n",
      "|[110.0,29.74,9.51...|11.6|\n",
      "|[46.052,14.52,7.2...| 6.6|\n",
      "|[70.367,20.52,8.5...| 9.2|\n",
      "|[70.367,20.52,8.5...| 9.2|\n",
      "|[86.0,21.24,9.63,...| 9.3|\n",
      "|[110.0,29.74,9.51...|11.6|\n",
      "|[88.5,21.24,9.63,...|10.3|\n",
      "|[70.367,20.52,8.5...| 9.2|\n",
      "|[88.5,21.24,9.63,...| 9.3|\n",
      "|[70.367,20.52,8.5...| 9.2|\n",
      "+--------------------+----+\n",
      "only showing top 20 rows\n",
      "\n"
     ]
    }
   ],
   "source": [
    "final_data = output.select(['features', 'crew'])\n",
    "final_data.show()"
   ]
  },
  {
   "cell_type": "markdown",
   "metadata": {},
   "source": [
    "### Splitting up training and testing data"
   ]
  },
  {
   "cell_type": "code",
   "execution_count": 30,
   "metadata": {},
   "outputs": [
    {
     "name": "stdout",
     "output_type": "stream",
     "text": [
      "+-------+------------------+\n",
      "|summary|              crew|\n",
      "+-------+------------------+\n",
      "|  count|               107|\n",
      "|   mean| 7.705700934579442|\n",
      "| stddev|3.4712591136710618|\n",
      "|    min|              0.59|\n",
      "|    max|              19.1|\n",
      "+-------+------------------+\n",
      "\n"
     ]
    }
   ],
   "source": [
    "train_data, test_data = final_data.randomSplit([0.7, 0.3])\n",
    "train_data.describe().show()"
   ]
  },
  {
   "cell_type": "markdown",
   "metadata": {},
   "source": [
    "### Creating the linear regression model and training and testing the data"
   ]
  },
  {
   "cell_type": "code",
   "execution_count": 31,
   "metadata": {},
   "outputs": [],
   "source": [
    "lr_ship = LinearRegression(featuresCol='features', labelCol='crew', predictionCol='predicted crew')\n",
    "trained_ship_model = lr_ship.fit(train_data)"
   ]
  },
  {
   "cell_type": "code",
   "execution_count": 32,
   "metadata": {},
   "outputs": [],
   "source": [
    "ship_test_results = trained_ship_model.evaluate(test_data)"
   ]
  },
  {
   "cell_type": "code",
   "execution_count": 33,
   "metadata": {},
   "outputs": [
    {
     "name": "stdout",
     "output_type": "stream",
     "text": [
      "+--------------------+\n",
      "|           residuals|\n",
      "+--------------------+\n",
      "| 0.27371424410699696|\n",
      "| 0.28356577477267686|\n",
      "| -1.0554455037334227|\n",
      "|-0.12152641845214696|\n",
      "|0.028889439248068527|\n",
      "|-0.00421998765122...|\n",
      "|  0.3854095636321513|\n",
      "| -0.7715432441404388|\n",
      "| 0.12000462740902584|\n",
      "|-0.05851487698840...|\n",
      "|  0.6038302149410901|\n",
      "|  0.9001025011660939|\n",
      "|-0.05895500911088991|\n",
      "|  0.4703259911194415|\n",
      "| -0.5984370521787676|\n",
      "|-0.19910625718605512|\n",
      "| -0.6964025991518321|\n",
      "| 0.06431735364602353|\n",
      "| 0.06963064903835736|\n",
      "| -1.3606530821648333|\n",
      "+--------------------+\n",
      "only showing top 20 rows\n",
      "\n"
     ]
    }
   ],
   "source": [
    "ship_test_results.residuals.show()"
   ]
  },
  {
   "cell_type": "markdown",
   "metadata": {},
   "source": [
    "### Evaluating the model"
   ]
  },
  {
   "cell_type": "code",
   "execution_count": 34,
   "metadata": {},
   "outputs": [
    {
     "data": {
      "text/plain": [
       "0.6215453209719183"
      ]
     },
     "execution_count": 34,
     "metadata": {},
     "output_type": "execute_result"
    }
   ],
   "source": [
    "ship_test_results.rootMeanSquaredError"
   ]
  },
  {
   "cell_type": "code",
   "execution_count": 35,
   "metadata": {},
   "outputs": [
    {
     "data": {
      "text/plain": [
       "0.9695589785486132"
      ]
     },
     "execution_count": 35,
     "metadata": {},
     "output_type": "execute_result"
    }
   ],
   "source": [
    "ship_test_results.r2"
   ]
  },
  {
   "cell_type": "code",
   "execution_count": 39,
   "metadata": {},
   "outputs": [
    {
     "name": "stdout",
     "output_type": "stream",
     "text": [
      "+-------+------------------+\n",
      "|summary|              crew|\n",
      "+-------+------------------+\n",
      "|  count|               107|\n",
      "|   mean| 7.705700934579442|\n",
      "| stddev|3.4712591136710618|\n",
      "|    min|              0.59|\n",
      "|    max|              19.1|\n",
      "+-------+------------------+\n",
      "\n"
     ]
    }
   ],
   "source": [
    "train_data.describe().show()"
   ]
  },
  {
   "cell_type": "markdown",
   "metadata": {},
   "source": [
    "#### However, when you get a good root mean squared error and r-sqaured value, we should always do a reality check on the model. Does it make sense that you're getting this good of a model? \n",
    "#### To do a reality check on this, we could check on these results by checking if any 2 columns are highlt correlated. For example, is the # of passengers on board highly correlated to # of crew? is the # of crew highy correlated to # of cabins?\n",
    "\n",
    "#### If they are highly correlated, it makes sense that the model performed really well because there are 2 columns that highly correlated."
   ]
  },
  {
   "cell_type": "code",
   "execution_count": 42,
   "metadata": {},
   "outputs": [
    {
     "name": "stdout",
     "output_type": "stream",
     "text": [
      "+----------------------+\n",
      "|corr(crew, passengers)|\n",
      "+----------------------+\n",
      "|    0.9152341306065384|\n",
      "+----------------------+\n",
      "\n"
     ]
    }
   ],
   "source": [
    "from pyspark.sql.functions import corr\n",
    "data.select(corr('passengers', 'crew').alias('corr(crew, passengers)')).show()"
   ]
  },
  {
   "cell_type": "markdown",
   "metadata": {},
   "source": [
    "#### The result above makes sense intuitively because more passengers would need more crew."
   ]
  },
  {
   "cell_type": "code",
   "execution_count": null,
   "metadata": {},
   "outputs": [],
   "source": []
  }
 ],
 "metadata": {
  "anaconda-cloud": {},
  "kernelspec": {
   "display_name": "Python 3",
   "language": "python",
   "name": "python3"
  },
  "language_info": {
   "codemirror_mode": {
    "name": "ipython",
    "version": 3
   },
   "file_extension": ".py",
   "mimetype": "text/x-python",
   "name": "python",
   "nbconvert_exporter": "python",
   "pygments_lexer": "ipython3",
   "version": "3.8.8"
  }
 },
 "nbformat": 4,
 "nbformat_minor": 1
}
