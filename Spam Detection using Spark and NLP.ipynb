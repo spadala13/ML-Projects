{
 "cells": [
  {
   "cell_type": "markdown",
   "id": "13cee614",
   "metadata": {},
   "source": [
    "For this project, I am using the dataset from UCI Repository SMS Spam Detection: https://archive.ics.uci.edu/ml/datasets/SMS+Spam+Collection. Through the use of PySpark and NLP, I'll be building a spam detection filter of spam message vs ham/good message."
   ]
  },
  {
   "cell_type": "code",
   "execution_count": 1,
   "id": "edc16070",
   "metadata": {},
   "outputs": [],
   "source": [
    "from pyspark.sql import SparkSession"
   ]
  },
  {
   "cell_type": "code",
   "execution_count": 5,
   "id": "70bc06e4",
   "metadata": {},
   "outputs": [
    {
     "name": "stdout",
     "output_type": "stream",
     "text": [
      "+-----+--------------------+\n",
      "|class|                text|\n",
      "+-----+--------------------+\n",
      "|  ham|Go until jurong p...|\n",
      "|  ham|Ok lar... Joking ...|\n",
      "| spam|Free entry in 2 a...|\n",
      "|  ham|U dun say so earl...|\n",
      "|  ham|Nah I don't think...|\n",
      "| spam|FreeMsg Hey there...|\n",
      "|  ham|Even my brother i...|\n",
      "|  ham|As per your reque...|\n",
      "| spam|WINNER!! As a val...|\n",
      "| spam|Had your mobile 1...|\n",
      "|  ham|I'm gonna be home...|\n",
      "| spam|SIX chances to wi...|\n",
      "| spam|URGENT! You have ...|\n",
      "|  ham|I've been searchi...|\n",
      "|  ham|I HAVE A DATE ON ...|\n",
      "| spam|XXXMobileMovieClu...|\n",
      "|  ham|Oh k...i'm watchi...|\n",
      "|  ham|Eh u remember how...|\n",
      "|  ham|Fine if thats th...|\n",
      "| spam|England v Macedon...|\n",
      "+-----+--------------------+\n",
      "only showing top 20 rows\n",
      "\n"
     ]
    }
   ],
   "source": [
    "spark = SparkSession.builder.appName('spam detector').getOrCreate()\n",
    "\n",
    "# data is separated by tabs\n",
    "data = spark.read.csv('smsspamcollection/SMSSpamCollection', inferSchema=True, sep='\\t')\n",
    "data = data.withColumnRenamed('_c0', 'class')\n",
    "data = data.withColumnRenamed('_c1', 'text')\n",
    "data.show()"
   ]
  },
  {
   "cell_type": "markdown",
   "id": "3038aa18",
   "metadata": {},
   "source": [
    "#### We will now clean and prepare the data to tokenize."
   ]
  },
  {
   "cell_type": "code",
   "execution_count": 9,
   "id": "38d05c40",
   "metadata": {},
   "outputs": [],
   "source": [
    "from pyspark.ml.feature import (Tokenizer, RegexTokenizer, StopWordsRemover, \n",
    "VectorAssembler, StringIndexer, IDF, HashingTF, CountVectorizer)\n",
    "\n",
    "from pyspark.sql.functions import length"
   ]
  },
  {
   "cell_type": "code",
   "execution_count": 10,
   "id": "0588cde7",
   "metadata": {},
   "outputs": [
    {
     "name": "stdout",
     "output_type": "stream",
     "text": [
      "+-----+--------------------+------+\n",
      "|class|                text|tokens|\n",
      "+-----+--------------------+------+\n",
      "|  ham|Go until jurong p...|   111|\n",
      "|  ham|Ok lar... Joking ...|    29|\n",
      "| spam|Free entry in 2 a...|   155|\n",
      "|  ham|U dun say so earl...|    49|\n",
      "|  ham|Nah I don't think...|    61|\n",
      "| spam|FreeMsg Hey there...|   147|\n",
      "|  ham|Even my brother i...|    77|\n",
      "|  ham|As per your reque...|   160|\n",
      "| spam|WINNER!! As a val...|   157|\n",
      "| spam|Had your mobile 1...|   154|\n",
      "|  ham|I'm gonna be home...|   109|\n",
      "| spam|SIX chances to wi...|   136|\n",
      "| spam|URGENT! You have ...|   155|\n",
      "|  ham|I've been searchi...|   196|\n",
      "|  ham|I HAVE A DATE ON ...|    35|\n",
      "| spam|XXXMobileMovieClu...|   149|\n",
      "|  ham|Oh k...i'm watchi...|    26|\n",
      "|  ham|Eh u remember how...|    81|\n",
      "|  ham|Fine if thats th...|    56|\n",
      "| spam|England v Macedon...|   155|\n",
      "+-----+--------------------+------+\n",
      "only showing top 20 rows\n",
      "\n"
     ]
    }
   ],
   "source": [
    "data = data.withColumn('tokens', length(data['text']))\n",
    "data.show()"
   ]
  },
  {
   "cell_type": "code",
   "execution_count": 13,
   "id": "1e106c75",
   "metadata": {},
   "outputs": [
    {
     "name": "stdout",
     "output_type": "stream",
     "text": [
      "+-----+-----------------+\n",
      "|class|      avg(tokens)|\n",
      "+-----+-----------------+\n",
      "|  ham|71.45431945307645|\n",
      "| spam|138.6706827309237|\n",
      "+-----+-----------------+\n",
      "\n"
     ]
    }
   ],
   "source": [
    "# we want to know if there's an actual difference in length b/w a spam text and a ham text.\n",
    "data.groupby('class').mean().show()"
   ]
  },
  {
   "cell_type": "markdown",
   "id": "1565549a",
   "metadata": {},
   "source": [
    "#### We can see that there is a clear difference and length is an important feature to consider when doing feature engineering."
   ]
  },
  {
   "cell_type": "code",
   "execution_count": 37,
   "id": "dd2459bc",
   "metadata": {},
   "outputs": [],
   "source": [
    "# separates the text into a list of words or tokens\n",
    "tokenizer = Tokenizer(inputCol=\"text\", outputCol=\"words\")\n",
    "\n",
    "# we will then use StopWordsRemover to remove words from the input that appear frequently but don't carry meaning.\n",
    "remover = StopWordsRemover(inputCol=\"words\", outputCol=\"filtered_words\")\n",
    "\n",
    "# countVectorizer is used to convert text into a vector of token counts/words count\n",
    "cv = CountVectorizer(inputCol=\"filtered_words\", outputCol=\"count_vec\")\n",
    "\n",
    "# idf is used to get the importance of a term to a document in corpus\n",
    "idf = IDF(inputCol=\"count_vec\", outputCol=\"tf_idf\")\n",
    "\n",
    "# we will then convert the label of ham/spam into numbers/numeric output\n",
    "ham_spam_to_num = StringIndexer(inputCol=\"class\", outputCol=\"label\")"
   ]
  },
  {
   "cell_type": "markdown",
   "id": "ed798a05",
   "metadata": {},
   "source": [
    "#### We will need a vectorAssembler to combine all the numeric features. "
   ]
  },
  {
   "cell_type": "code",
   "execution_count": 43,
   "id": "3a8a5468",
   "metadata": {},
   "outputs": [],
   "source": [
    "assembler = VectorAssembler(inputCols=[\"tf_idf\", \"tokens\"], outputCol=\"features\")"
   ]
  },
  {
   "cell_type": "markdown",
   "id": "58b521c9",
   "metadata": {},
   "source": [
    "### ML Model\n",
    "##### we will then use the Naive Bayes Classifier."
   ]
  },
  {
   "cell_type": "code",
   "execution_count": 39,
   "id": "713cc264",
   "metadata": {},
   "outputs": [],
   "source": [
    "from pyspark.ml.classification import NaiveBayes\n",
    "from pyspark.ml import Pipeline"
   ]
  },
  {
   "cell_type": "code",
   "execution_count": 40,
   "id": "ab060d40",
   "metadata": {},
   "outputs": [],
   "source": [
    "nb = NaiveBayes()"
   ]
  },
  {
   "cell_type": "code",
   "execution_count": 44,
   "id": "e845215e",
   "metadata": {},
   "outputs": [],
   "source": [
    "# since there's multiple steps, we will use a pipeline\n",
    "data_prep_pipe = Pipeline(stages=[ham_spam_to_num, tokenizer, remover, cv, idf, assembler])\n",
    "cleaner = data_prep_pipe.fit(data)"
   ]
  },
  {
   "cell_type": "code",
   "execution_count": 45,
   "id": "729d0687",
   "metadata": {},
   "outputs": [],
   "source": [
    "cleaned_data = cleaner.transform(data)"
   ]
  },
  {
   "cell_type": "code",
   "execution_count": 50,
   "id": "8119d088",
   "metadata": {},
   "outputs": [
    {
     "data": {
      "text/plain": [
       "['class',\n",
       " 'text',\n",
       " 'tokens',\n",
       " 'label',\n",
       " 'words',\n",
       " 'filtered_words',\n",
       " 'count_vec',\n",
       " 'tf_idf',\n",
       " 'features']"
      ]
     },
     "execution_count": 50,
     "metadata": {},
     "output_type": "execute_result"
    }
   ],
   "source": [
    "cleaned_data.columns"
   ]
  },
  {
   "cell_type": "code",
   "execution_count": 46,
   "id": "e23d4660",
   "metadata": {},
   "outputs": [],
   "source": [
    "clean_data = cleaned_data.select([\"label\", \"features\"])"
   ]
  },
  {
   "cell_type": "code",
   "execution_count": 47,
   "id": "54b25be1",
   "metadata": {},
   "outputs": [
    {
     "name": "stdout",
     "output_type": "stream",
     "text": [
      "+-----+--------------------+\n",
      "|label|            features|\n",
      "+-----+--------------------+\n",
      "|  0.0|(13424,[7,11,31,6...|\n",
      "|  0.0|(13424,[0,24,297,...|\n",
      "|  1.0|(13424,[2,13,19,3...|\n",
      "|  0.0|(13424,[0,70,80,1...|\n",
      "|  0.0|(13424,[36,134,31...|\n",
      "|  1.0|(13424,[10,60,139...|\n",
      "|  0.0|(13424,[10,53,103...|\n",
      "|  0.0|(13424,[125,184,4...|\n",
      "|  1.0|(13424,[1,47,118,...|\n",
      "|  1.0|(13424,[0,1,13,27...|\n",
      "|  0.0|(13424,[18,43,120...|\n",
      "|  1.0|(13424,[8,17,37,8...|\n",
      "|  1.0|(13424,[13,30,47,...|\n",
      "|  0.0|(13424,[39,96,217...|\n",
      "|  0.0|(13424,[552,1697,...|\n",
      "|  1.0|(13424,[30,109,11...|\n",
      "|  0.0|(13424,[82,214,47...|\n",
      "|  0.0|(13424,[0,2,49,13...|\n",
      "|  0.0|(13424,[0,74,105,...|\n",
      "|  1.0|(13424,[4,30,33,5...|\n",
      "+-----+--------------------+\n",
      "only showing top 20 rows\n",
      "\n"
     ]
    }
   ],
   "source": [
    "clean_data.show()"
   ]
  },
  {
   "cell_type": "code",
   "execution_count": 51,
   "id": "73a6cf10",
   "metadata": {},
   "outputs": [],
   "source": [
    "### we will now train-test split the data\n",
    "train, test = clean_data.randomSplit([0.7, 0.3])\n",
    "spam_predictor = nb.fit(train)"
   ]
  },
  {
   "cell_type": "code",
   "execution_count": 52,
   "id": "74d75aa8",
   "metadata": {},
   "outputs": [
    {
     "name": "stdout",
     "output_type": "stream",
     "text": [
      "root\n",
      " |-- class: string (nullable = true)\n",
      " |-- text: string (nullable = true)\n",
      " |-- tokens: integer (nullable = true)\n",
      "\n"
     ]
    }
   ],
   "source": [
    "data.printSchema()"
   ]
  },
  {
   "cell_type": "code",
   "execution_count": 53,
   "id": "99b82c65",
   "metadata": {},
   "outputs": [
    {
     "name": "stdout",
     "output_type": "stream",
     "text": [
      "+-----+--------------------+--------------------+--------------------+----------+\n",
      "|label|            features|       rawPrediction|         probability|prediction|\n",
      "+-----+--------------------+--------------------+--------------------+----------+\n",
      "|  0.0|(13424,[0,1,5,15,...|[-1006.7150044491...|[1.0,3.6407722850...|       0.0|\n",
      "|  0.0|(13424,[0,1,7,8,1...|[-1162.4658881613...|[1.0,1.1712555715...|       0.0|\n",
      "|  0.0|(13424,[0,1,12,33...|[-468.34118912469...|[1.0,1.5188666269...|       0.0|\n",
      "|  0.0|(13424,[0,1,14,18...|[-1371.5099919464...|[1.0,1.3541023656...|       0.0|\n",
      "|  0.0|(13424,[0,1,14,31...|[-216.48825201227...|[1.0,1.4301444526...|       0.0|\n",
      "|  0.0|(13424,[0,1,14,78...|[-688.68692404429...|[1.0,8.2123247162...|       0.0|\n",
      "|  0.0|(13424,[0,1,15,20...|[-695.14015686622...|[1.0,3.4893348365...|       0.0|\n",
      "|  0.0|(13424,[0,1,18,20...|[-830.24641873308...|[1.0,1.0384523062...|       0.0|\n",
      "|  0.0|(13424,[0,1,20,27...|[-985.76769011386...|[0.99999999999973...|       0.0|\n",
      "|  0.0|(13424,[0,1,30,12...|[-614.23702405157...|[1.0,1.0298018763...|       0.0|\n",
      "|  0.0|(13424,[0,1,416,6...|[-303.31859007473...|[0.99999999999999...|       0.0|\n",
      "|  0.0|(13424,[0,1,874,1...|[-98.812194904253...|[0.99999994335422...|       0.0|\n",
      "|  0.0|(13424,[0,2,3,5,3...|[-503.55614481113...|[1.0,6.3313950049...|       0.0|\n",
      "|  0.0|(13424,[0,2,4,5,1...|[-2734.0826350292...|[1.0,5.2468398575...|       0.0|\n",
      "|  0.0|(13424,[0,2,4,5,1...|[-2734.0826350292...|[1.0,5.2468398575...|       0.0|\n",
      "|  0.0|(13424,[0,2,4,5,1...|[-1600.7038022712...|[1.0,3.9145543475...|       0.0|\n",
      "|  0.0|(13424,[0,2,4,7,2...|[-518.46906432756...|[1.0,2.8222916531...|       0.0|\n",
      "|  0.0|(13424,[0,2,4,8,1...|[-1307.1288908166...|[1.0,8.2591024481...|       0.0|\n",
      "|  0.0|(13424,[0,2,4,10,...|[-1236.5415458541...|[1.0,8.8427243656...|       0.0|\n",
      "|  0.0|(13424,[0,2,4,44,...|[-1937.5584412200...|[1.0,2.0859128125...|       0.0|\n",
      "+-----+--------------------+--------------------+--------------------+----------+\n",
      "only showing top 20 rows\n",
      "\n"
     ]
    }
   ],
   "source": [
    "test_results = spam_predictor.transform(test)\n",
    "test_results.show()"
   ]
  },
  {
   "cell_type": "code",
   "execution_count": 60,
   "id": "c69d7c6c",
   "metadata": {},
   "outputs": [
    {
     "name": "stdout",
     "output_type": "stream",
     "text": [
      "The accuracy of the Naive Bayes Model: 0.9191390069960609\n"
     ]
    }
   ],
   "source": [
    "# we will get the accuracy of our prediction using \n",
    "from pyspark.ml.evaluation import MulticlassClassificationEvaluator\n",
    "accuracy_eval = MulticlassClassificationEvaluator()\n",
    "acc = accuracy_eval.evaluate(test_results)\n",
    "print(\"The accuracy of the Naive Bayes Model: {}\".format(acc))\n"
   ]
  },
  {
   "cell_type": "code",
   "execution_count": null,
   "id": "253e7955",
   "metadata": {},
   "outputs": [],
   "source": []
  }
 ],
 "metadata": {
  "kernelspec": {
   "display_name": "Python 3",
   "language": "python",
   "name": "python3"
  },
  "language_info": {
   "codemirror_mode": {
    "name": "ipython",
    "version": 3
   },
   "file_extension": ".py",
   "mimetype": "text/x-python",
   "name": "python",
   "nbconvert_exporter": "python",
   "pygments_lexer": "ipython3",
   "version": "3.8.8"
  }
 },
 "nbformat": 4,
 "nbformat_minor": 5
}
