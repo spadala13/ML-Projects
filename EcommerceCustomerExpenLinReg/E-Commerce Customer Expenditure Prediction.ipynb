{
 "cells": [
  {
   "cell_type": "code",
   "execution_count": 1,
   "id": "f269ef81",
   "metadata": {},
   "outputs": [],
   "source": [
    "from pyspark.sql import SparkSession"
   ]
  },
  {
   "cell_type": "code",
   "execution_count": 3,
   "id": "e0164f29",
   "metadata": {},
   "outputs": [],
   "source": [
    "spark = SparkSession.builder.appName('lr_ecomm').getOrCreate()"
   ]
  },
  {
   "cell_type": "code",
   "execution_count": 4,
   "id": "022bef28",
   "metadata": {},
   "outputs": [],
   "source": [
    "from pyspark.ml.regression import LinearRegression"
   ]
  },
  {
   "cell_type": "code",
   "execution_count": 9,
   "id": "1894ab68",
   "metadata": {},
   "outputs": [],
   "source": [
    "data = spark.read.csv('Ecommerce_Customers.csv', inferSchema=True, header=True)"
   ]
  },
  {
   "cell_type": "code",
   "execution_count": 10,
   "id": "b5b10c4b",
   "metadata": {},
   "outputs": [
    {
     "name": "stdout",
     "output_type": "stream",
     "text": [
      "root\n",
      " |-- Email: string (nullable = true)\n",
      " |-- Address: string (nullable = true)\n",
      " |-- Avatar: string (nullable = true)\n",
      " |-- Avg Session Length: double (nullable = true)\n",
      " |-- Time on App: double (nullable = true)\n",
      " |-- Time on Website: double (nullable = true)\n",
      " |-- Length of Membership: double (nullable = true)\n",
      " |-- Yearly Amount Spent: double (nullable = true)\n",
      "\n"
     ]
    }
   ],
   "source": [
    "data.printSchema()"
   ]
  },
  {
   "cell_type": "code",
   "execution_count": 11,
   "id": "d0ce5500",
   "metadata": {},
   "outputs": [],
   "source": [
    "# trying to get how much time has this customer been a member and their yearly \n",
    "#  amount spent on the service or the site\n",
    "\n",
    "from pyspark.ml.linalg import Vectors\n",
    "from pyspark.ml.feature import VectorAssembler\n",
    "\n"
   ]
  },
  {
   "cell_type": "code",
   "execution_count": 14,
   "id": "98f3bf0b",
   "metadata": {},
   "outputs": [
    {
     "name": "stdout",
     "output_type": "stream",
     "text": [
      "root\n",
      " |-- Email: string (nullable = true)\n",
      " |-- Address: string (nullable = true)\n",
      " |-- Avatar: string (nullable = true)\n",
      " |-- Avg Session Length: double (nullable = true)\n",
      " |-- Time on App: double (nullable = true)\n",
      " |-- Time on Website: double (nullable = true)\n",
      " |-- Length of Membership: double (nullable = true)\n",
      " |-- Yearly Amount Spent: double (nullable = true)\n",
      " |-- features: vector (nullable = true)\n",
      "\n"
     ]
    }
   ],
   "source": [
    "# only need numerical data to create assembler\n",
    "# idea of assemblers is to create a single vector w/ the input and output column\n",
    "assembler = VectorAssembler(inputCols=['Avg Session Length', 'Time on App', \n",
    "                                       'Time on Website', 'Length of Membership'],\n",
    "                           outputCol='features')\n",
    "\n",
    "# transform the data and adds extra vector column called features\n",
    "output = assembler.transform(data)\n",
    "output.printSchema()"
   ]
  },
  {
   "cell_type": "code",
   "execution_count": 15,
   "id": "0c1aed0b",
   "metadata": {},
   "outputs": [
    {
     "name": "stdout",
     "output_type": "stream",
     "text": [
      "+--------------------+\n",
      "|            features|\n",
      "+--------------------+\n",
      "|[34.4972677251122...|\n",
      "|[31.9262720263601...|\n",
      "|[33.0009147556426...|\n",
      "|[34.3055566297555...|\n",
      "|[33.3306725236463...|\n",
      "|[33.8710378793419...|\n",
      "|[32.0215955013870...|\n",
      "|[32.7391429383803...|\n",
      "|[33.9877728956856...|\n",
      "|[31.9365486184489...|\n",
      "|[33.9925727749537...|\n",
      "|[33.8793608248049...|\n",
      "|[29.5324289670579...|\n",
      "|[33.1903340437226...|\n",
      "|[32.3879758531538...|\n",
      "|[30.7377203726281...|\n",
      "|[32.1253868972878...|\n",
      "|[32.3388993230671...|\n",
      "|[32.1878120459321...|\n",
      "|[32.6178560628234...|\n",
      "+--------------------+\n",
      "only showing top 20 rows\n",
      "\n"
     ]
    }
   ],
   "source": [
    "output.select('features').show()"
   ]
  },
  {
   "cell_type": "code",
   "execution_count": 16,
   "id": "a7bd343e",
   "metadata": {},
   "outputs": [],
   "source": [
    "final_data = output.select('features', 'Yearly Amount Spent')"
   ]
  },
  {
   "cell_type": "code",
   "execution_count": 17,
   "id": "bc1ce57c",
   "metadata": {},
   "outputs": [
    {
     "name": "stdout",
     "output_type": "stream",
     "text": [
      "+--------------------+-------------------+\n",
      "|            features|Yearly Amount Spent|\n",
      "+--------------------+-------------------+\n",
      "|[34.4972677251122...|  587.9510539684005|\n",
      "|[31.9262720263601...|  392.2049334443264|\n",
      "|[33.0009147556426...| 487.54750486747207|\n",
      "|[34.3055566297555...|  581.8523440352177|\n",
      "|[33.3306725236463...|  599.4060920457634|\n",
      "|[33.8710378793419...|   637.102447915074|\n",
      "|[32.0215955013870...|  521.5721747578274|\n",
      "|[32.7391429383803...|  549.9041461052942|\n",
      "|[33.9877728956856...|  570.2004089636196|\n",
      "|[31.9365486184489...|  427.1993848953282|\n",
      "|[33.9925727749537...|  492.6060127179966|\n",
      "|[33.8793608248049...|  522.3374046069357|\n",
      "|[29.5324289670579...|  408.6403510726275|\n",
      "|[33.1903340437226...|  573.4158673313865|\n",
      "|[32.3879758531538...|  470.4527333009554|\n",
      "|[30.7377203726281...|  461.7807421962299|\n",
      "|[32.1253868972878...| 457.84769594494855|\n",
      "|[32.3388993230671...| 407.70454754954415|\n",
      "|[32.1878120459321...|  452.3156754800354|\n",
      "|[32.6178560628234...|   605.061038804892|\n",
      "+--------------------+-------------------+\n",
      "only showing top 20 rows\n",
      "\n"
     ]
    }
   ],
   "source": [
    "final_data.show()"
   ]
  },
  {
   "cell_type": "code",
   "execution_count": 18,
   "id": "bac5deef",
   "metadata": {},
   "outputs": [],
   "source": [
    "# splitting up into train test data\n",
    "train_data, test_data = final_data.randomSplit([0.7, 0.3])"
   ]
  },
  {
   "cell_type": "code",
   "execution_count": 19,
   "id": "8b7d1b72",
   "metadata": {},
   "outputs": [
    {
     "name": "stdout",
     "output_type": "stream",
     "text": [
      "+-------+-------------------+\n",
      "|summary|Yearly Amount Spent|\n",
      "+-------+-------------------+\n",
      "|  count|                349|\n",
      "|   mean| 497.46432462727466|\n",
      "| stddev|  77.02310424923327|\n",
      "|    min| 256.67058229005585|\n",
      "|    max|  765.5184619388373|\n",
      "+-------+-------------------+\n",
      "\n"
     ]
    }
   ],
   "source": [
    "train_data.describe().show()"
   ]
  },
  {
   "cell_type": "code",
   "execution_count": 20,
   "id": "195fed58",
   "metadata": {},
   "outputs": [
    {
     "name": "stdout",
     "output_type": "stream",
     "text": [
      "+-------+-------------------+\n",
      "|summary|Yearly Amount Spent|\n",
      "+-------+-------------------+\n",
      "|  count|                151|\n",
      "|   mean| 503.58920420116937|\n",
      "| stddev|  84.48440276236391|\n",
      "|    min|   266.086340948469|\n",
      "|    max|  725.5848140556806|\n",
      "+-------+-------------------+\n",
      "\n"
     ]
    }
   ],
   "source": [
    "test_data.describe().show()"
   ]
  },
  {
   "cell_type": "code",
   "execution_count": 22,
   "id": "ffc86acb",
   "metadata": {},
   "outputs": [],
   "source": [
    "# creating our linear regression model\n",
    "lr_ship = LinearRegression(featuresCol='features', labelCol='Yearly Amount Spent', predictionCol='prediction')\n",
    "\n",
    "# training the model\n",
    "trained_ship_model = lr_ship.fit(train_data)"
   ]
  },
  {
   "cell_type": "code",
   "execution_count": 23,
   "id": "d3fa18d6",
   "metadata": {},
   "outputs": [],
   "source": [
    "test_ship_results = trained_ship_model.evaluate(test_data)"
   ]
  },
  {
   "cell_type": "code",
   "execution_count": 25,
   "id": "1eee7c40",
   "metadata": {},
   "outputs": [
    {
     "name": "stdout",
     "output_type": "stream",
     "text": [
      "+-------------------+\n",
      "|          residuals|\n",
      "+-------------------+\n",
      "|-13.965412546968878|\n",
      "|-19.000592293491195|\n",
      "| -5.775124470128901|\n",
      "|  5.113060509931529|\n",
      "| 3.5176016124036096|\n",
      "| -7.576197033889287|\n",
      "|-14.434246668145022|\n",
      "| 21.012364136653787|\n",
      "| -4.507949428547363|\n",
      "| -6.769404598573715|\n",
      "| -18.36732762203883|\n",
      "|-27.214872664397376|\n",
      "|-3.2523536634548122|\n",
      "| -4.965314319066522|\n",
      "|-12.326405808802292|\n",
      "| -5.798713133040565|\n",
      "| -7.298758806807825|\n",
      "|-10.135611307428178|\n",
      "| -5.751445427730573|\n",
      "| -9.877158773540714|\n",
      "+-------------------+\n",
      "only showing top 20 rows\n",
      "\n"
     ]
    }
   ],
   "source": [
    "# shows the difference b/w predicted and actual value\n",
    "test_results.residuals.show()"
   ]
  },
  {
   "cell_type": "code",
   "execution_count": 29,
   "id": "98fafbe4",
   "metadata": {},
   "outputs": [
    {
     "data": {
      "text/plain": [
       "9.617817534960025"
      ]
     },
     "execution_count": 29,
     "metadata": {},
     "output_type": "execute_result"
    }
   ],
   "source": [
    "# evaluation metrics for the linear regression model\n",
    "\n",
    "# value of the difference b/w test value, true value versus the predicted value\n",
    "# this equals the average amount spent yearly\n",
    "test_results.rootMeanSquaredError"
   ]
  },
  {
   "cell_type": "code",
   "execution_count": 28,
   "id": "728efe2a",
   "metadata": {},
   "outputs": [
    {
     "data": {
      "text/plain": [
       "0.9869537505319181"
      ]
     },
     "execution_count": 28,
     "metadata": {},
     "output_type": "execute_result"
    }
   ],
   "source": [
    "test_results.r2"
   ]
  },
  {
   "cell_type": "markdown",
   "id": "88826723",
   "metadata": {},
   "source": [
    "#### The r-squared value tells us that the linear regression model explains 98% of the variance in the data which is pretty darn good."
   ]
  },
  {
   "cell_type": "markdown",
   "id": "e1358a92",
   "metadata": {},
   "source": [
    "#### Compare the evaluation metrics with the final data"
   ]
  },
  {
   "cell_type": "code",
   "execution_count": 30,
   "id": "884c0377",
   "metadata": {},
   "outputs": [
    {
     "name": "stdout",
     "output_type": "stream",
     "text": [
      "+-------+-------------------+\n",
      "|summary|Yearly Amount Spent|\n",
      "+-------+-------------------+\n",
      "|  count|                500|\n",
      "|   mean|  499.3140382585909|\n",
      "| stddev|   79.3147815497068|\n",
      "|    min| 256.67058229005585|\n",
      "|    max|  765.5184619388373|\n",
      "+-------+-------------------+\n",
      "\n"
     ]
    }
   ],
   "source": [
    "final_data.describe().show()"
   ]
  },
  {
   "cell_type": "markdown",
   "id": "47c452b0",
   "metadata": {},
   "source": [
    "#### Now, compare the root mean squared error to the value you're actually trying to predict, which in this case is Yearl Amount Spent."
   ]
  },
  {
   "cell_type": "markdown",
   "id": "8fdf9241",
   "metadata": {},
   "source": [
    "### Now, we will be deploying a model with unlabelled data and only features."
   ]
  },
  {
   "cell_type": "code",
   "execution_count": 31,
   "id": "ada9365b",
   "metadata": {},
   "outputs": [],
   "source": [
    "unlabeled_data = test_data.select('features')"
   ]
  },
  {
   "cell_type": "code",
   "execution_count": 32,
   "id": "17d03840",
   "metadata": {},
   "outputs": [
    {
     "name": "stdout",
     "output_type": "stream",
     "text": [
      "+--------------------+------------------+\n",
      "|            features|        prediction|\n",
      "+--------------------+------------------+\n",
      "|[30.3931845423455...| 333.8942823501625|\n",
      "|[30.8162006488763...| 285.0869332419602|\n",
      "|[30.8364326747734...| 473.2770248971185|\n",
      "|[30.9716756438877...| 489.5255492469612|\n",
      "|[31.0472221394875...| 388.9797975766178|\n",
      "|[31.0613251567161...| 495.1316550917909|\n",
      "|[31.0662181616375...| 463.3675398758194|\n",
      "|[31.2834474760581...| 570.7687252890137|\n",
      "|[31.4252268808548...| 535.2746680833093|\n",
      "|[31.5257524169682...| 450.7350314084556|\n",
      "|[31.5702008293202...| 564.3128197634437|\n",
      "|[31.6739155032749...| 502.9399405742786|\n",
      "|[31.7216523605090...|351.02928029532745|\n",
      "|[31.7656188210424...|501.51939595467366|\n",
      "|[31.8093003166791...| 549.0983051716435|\n",
      "|[31.8124825597242...| 398.6090581168378|\n",
      "|[31.8745516945853...| 399.5840030530753|\n",
      "|[31.8854062999117...| 400.2388842799037|\n",
      "|[31.9453957483445...| 662.7713693653825|\n",
      "|[32.0085045178551...| 453.0743798022961|\n",
      "+--------------------+------------------+\n",
      "only showing top 20 rows\n",
      "\n"
     ]
    }
   ],
   "source": [
    "predictions = lr_model.transform(unlabeled_data)\n",
    "\n",
    "# predicts the Yearly Amount Spent from the features of each customer\n",
    "predictions.show()"
   ]
  },
  {
   "cell_type": "markdown",
   "id": "9b0e6ced",
   "metadata": {},
   "source": [
    "## We can conclude that the linear regression model fits this data very well as the r2 value is 98%."
   ]
  },
  {
   "cell_type": "code",
   "execution_count": null,
   "id": "43cfa3bd",
   "metadata": {},
   "outputs": [],
   "source": []
  }
 ],
 "metadata": {
  "kernelspec": {
   "display_name": "Python 3",
   "language": "python",
   "name": "python3"
  },
  "language_info": {
   "codemirror_mode": {
    "name": "ipython",
    "version": 3
   },
   "file_extension": ".py",
   "mimetype": "text/x-python",
   "name": "python",
   "nbconvert_exporter": "python",
   "pygments_lexer": "ipython3",
   "version": "3.8.8"
  }
 },
 "nbformat": 4,
 "nbformat_minor": 5
}
